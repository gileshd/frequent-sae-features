{
 "cells": [
  {
   "cell_type": "code",
   "execution_count": 1,
   "id": "acebade6",
   "metadata": {},
   "outputs": [],
   "source": [
    "import torch\n",
    "from datasets import load_dataset\n",
    "from transformer_lens import HookedTransformer\n",
    "from sae_lens import SAE\n",
    "from transformer_lens.utils import tokenize_and_concatenate\n",
    "from tqdm import tqdm\n",
    "import os\n",
    "\n",
    "from matplotlib import pyplot as plt"
   ]
  },
  {
   "cell_type": "code",
   "execution_count": 7,
   "id": "b7ca5adb",
   "metadata": {
    "lines_to_next_cell": 1
   },
   "outputs": [
    {
     "name": "stdout",
     "output_type": "stream",
     "text": [
      "Device: cpu\n",
      "Loaded pretrained model gpt2-small into HookedTransformer\n"
     ]
    },
    {
     "name": "stderr",
     "output_type": "stream",
     "text": [
      "/Users/ghd/dev/MATS/NN-training/SAEs/freq-features/.venv/lib/python3.12/site-packages/sae_lens/sae.py:136: UserWarning: \n",
      "This SAE has non-empty model_from_pretrained_kwargs. \n",
      "For optimal performance, load the model like so:\n",
      "model = HookedSAETransformer.from_pretrained_no_processing(..., **cfg.model_from_pretrained_kwargs)\n",
      "  warnings.warn(\n"
     ]
    }
   ],
   "source": [
    "torch.set_grad_enabled(False)\n",
    "\n",
    "# Set up device\n",
    "# device = \"cuda\" if torch.cuda.is_available() else \"mps\" if torch.backends.mps.is_available() else \"cpu\"\n",
    "# Sparse stuff isn't available on mps\n",
    "device = \"cuda\" if torch.cuda.is_available() else \"cpu\"\n",
    "print(f\"Device: {device}\")\n",
    "\n",
    "# Load model and SAE\n",
    "model = HookedTransformer.from_pretrained(\"gpt2-small\", device=device)\n",
    "sae, cfg_dict, _ = SAE.from_pretrained(\n",
    "    release=\"gpt2-small-res-jb\",\n",
    "    sae_id=\"blocks.8.hook_resid_pre\",\n",
    "    device=device,\n",
    ")\n",
    "\n",
    "# Load dataset\n",
    "dataset = load_dataset(\n",
    "    path=\"NeelNanda/pile-10k\",\n",
    "    split=\"train\",\n",
    "    streaming=False,\n",
    ")\n",
    "\n",
    "token_dataset = tokenize_and_concatenate(\n",
    "    dataset=dataset,\n",
    "    tokenizer=model.tokenizer,\n",
    "    streaming=True,\n",
    "    max_length=sae.cfg.context_size,\n",
    "    add_bos_token=sae.cfg.prepend_bos,\n",
    ")"
   ]
  },
  {
   "cell_type": "code",
   "execution_count": 8,
   "id": "5dd447d4",
   "metadata": {
    "lines_to_next_cell": 1
   },
   "outputs": [],
   "source": [
    "def accumulate_feature_acts(sae, model, tokens, batch_size=32, num_batches=None):\n",
    "    sae.eval()\n",
    "    \n",
    "    # Calculate total number of samples\n",
    "    total_samples = tokens.shape[0] if num_batches is None else min(tokens.shape[0], num_batches * batch_size)\n",
    "    \n",
    "    n_feats = sae.W_enc.shape[-1]\n",
    "    context_size = sae.cfg.context_size\n",
    "    # Pre-allocate tensor for all activations, now including context_size\n",
    "    all_feature_acts = torch.empty((total_samples * context_size, n_feats), dtype=torch.float32, device='cpu')\n",
    "    \n",
    "    with torch.no_grad():\n",
    "        for i in tqdm(range(0, total_samples, batch_size)):\n",
    "            batch = tokens[i:i+batch_size]\n",
    "            _, cache = model.run_with_cache(batch, prepend_bos=False, stop_at_layer=9)\n",
    "            \n",
    "            feature_acts = sae.encode(cache[sae.cfg.hook_name])\n",
    "            # Reshape feature_acts to (batch_size * context_size, n_feats)\n",
    "            feature_acts_flat = feature_acts.reshape(-1, n_feats)\n",
    "            all_feature_acts[i*context_size:(i+feature_acts.shape[0])*context_size] = feature_acts_flat.cpu()\n",
    "            \n",
    "            del cache\n",
    "    \n",
    "    return all_feature_acts\n",
    "\n",
    "# Generate and save activations\n",
    "def save_sparse_activations(output_dir, num_samples=10000, batch_size=32):\n",
    "    os.makedirs(output_dir, exist_ok=True)\n",
    "    \n",
    "    tokens = token_dataset[:num_samples][\"tokens\"]\n",
    "    activations = accumulate_feature_acts(sae, model, tokens, batch_size)\n",
    "    \n",
    "    # Convert to sparse tensor\n",
    "    sparse_activations = activations.to_sparse()\n",
    "    \n",
    "    # Save sparse tensor\n",
    "    torch.save(sparse_activations, os.path.join(output_dir, f\"sparse_activations_{num_samples * sae.cfg.context_size}.pt\"))\n",
    "    print(f\"Saved sparse activations for {num_samples * sae.cfg.context_size} token positions\")"
   ]
  },
  {
   "cell_type": "code",
   "execution_count": 9,
   "id": "c54707c0",
   "metadata": {
    "lines_to_next_cell": 1
   },
   "outputs": [],
   "source": [
    "# Usage\n",
    "# output_directory = \"sae_activations\"\n",
    "# save_sparse_activations(output_directory, num_samples=640)"
   ]
  },
  {
   "cell_type": "code",
   "execution_count": 10,
   "id": "4558f91b",
   "metadata": {},
   "outputs": [],
   "source": [
    "\n",
    "def accumulate_sparse_feature_acts(sae, model, tokens, batch_size=32, num_batches=None):\n",
    "    sae.eval()\n",
    "    \n",
    "    # Calculate total number of samples\n",
    "    total_samples = tokens.shape[0] if num_batches is None else min(tokens.shape[0], num_batches * batch_size)\n",
    "    \n",
    "    n_feats = sae.W_enc.shape[-1]\n",
    "    context_size = sae.cfg.context_size\n",
    "    total_positions = total_samples * context_size\n",
    "\n",
    "    # Initialize lists to store indices and values for sparse tensor\n",
    "    indices = []\n",
    "    values = []\n",
    "    \n",
    "    with torch.no_grad():\n",
    "        for i in tqdm(range(0, total_samples, batch_size)):\n",
    "            batch = tokens[i:i+batch_size]\n",
    "            _, cache = model.run_with_cache(batch, prepend_bos=False, stop_at_layer=9)\n",
    "            \n",
    "            feature_acts = sae.encode(cache[sae.cfg.hook_name])\n",
    "            # Reshape feature_acts to (batch_size * context_size, n_feats)\n",
    "            feature_acts_flat = feature_acts.reshape(-1, n_feats)\n",
    "            \n",
    "            # Find non-zero elements\n",
    "            non_zero = feature_acts_flat.nonzero()\n",
    "            batch_indices = non_zero[:, 0] + i * context_size\n",
    "            feat_indices = non_zero[:, 1]\n",
    "            \n",
    "            # Append to lists\n",
    "            indices.append(torch.stack([batch_indices, feat_indices]))\n",
    "            values.append(feature_acts_flat[non_zero[:, 0], non_zero[:, 1]])\n",
    "            \n",
    "            del cache\n",
    "    \n",
    "    # Concatenate all indices and values\n",
    "    indices = torch.cat(indices, dim=1)\n",
    "    values = torch.cat(values)\n",
    "    \n",
    "    # Create sparse tensor\n",
    "    sparse_activations = torch.sparse_coo_tensor(indices, values, (total_positions, n_feats))\n",
    "    \n",
    "    return sparse_activations.coalesce() "
   ]
  },
  {
   "cell_type": "code",
   "execution_count": 19,
   "id": "a0cc8b1d",
   "metadata": {},
   "outputs": [
    {
     "name": "stderr",
     "output_type": "stream",
     "text": [
      "100%|██████████| 10/10 [00:14<00:00,  1.43s/it]\n"
     ]
    }
   ],
   "source": [
    "tokens = token_dataset[:320][\"tokens\"]\n",
    "acts = accumulate_feature_acts(sae, model, tokens, batch_size=32)"
   ]
  },
  {
   "cell_type": "code",
   "execution_count": 12,
   "id": "07726f46",
   "metadata": {},
   "outputs": [
    {
     "name": "stderr",
     "output_type": "stream",
     "text": [
      "100%|██████████| 10/10 [00:15<00:00,  1.54s/it]\n"
     ]
    }
   ],
   "source": [
    "tokens = token_dataset[:320][\"tokens\"]\n",
    "spacts = accumulate_sparse_feature_acts(sae, model, tokens, batch_size=32)"
   ]
  },
  {
   "cell_type": "code",
   "execution_count": 14,
   "id": "89e8d4d5",
   "metadata": {},
   "outputs": [],
   "source": [
    "acts2 = spacts.to_dense()"
   ]
  },
  {
   "cell_type": "code",
   "execution_count": null,
   "id": "1d5852f4",
   "metadata": {},
   "outputs": [],
   "source": []
  }
 ],
 "metadata": {
  "jupytext": {
   "cell_metadata_filter": "-all",
   "main_language": "python",
   "notebook_metadata_filter": "-all"
  },
  "kernelspec": {
   "display_name": ".venv",
   "language": "python",
   "name": "python3"
  },
  "language_info": {
   "codemirror_mode": {
    "name": "ipython",
    "version": 3
   },
   "file_extension": ".py",
   "mimetype": "text/x-python",
   "name": "python",
   "nbconvert_exporter": "python",
   "pygments_lexer": "ipython3",
   "version": "3.12.2"
  }
 },
 "nbformat": 4,
 "nbformat_minor": 5
}
